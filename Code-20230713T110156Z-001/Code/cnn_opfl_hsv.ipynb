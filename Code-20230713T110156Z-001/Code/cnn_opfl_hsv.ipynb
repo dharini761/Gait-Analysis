{
  "cells": [
    {
      "cell_type": "code",
      "execution_count": null,
      "metadata": {
        "colab": {
          "base_uri": "https://localhost:8080/"
        },
        "id": "uP1dlRP7j4qA",
        "outputId": "5ab73e01-e59e-4236-d385-ef194729dc48"
      },
      "outputs": [
        {
          "output_type": "stream",
          "name": "stdout",
          "text": [
            "Drive already mounted at /content/gdrive; to attempt to forcibly remount, call drive.mount(\"/content/gdrive\", force_remount=True).\n"
          ]
        }
      ],
      "source": [
        "# mount Google Drive\n",
        "from google.colab import drive\n",
        "drive.mount('/content/gdrive')"
      ]
    },
    {
      "cell_type": "code",
      "execution_count": null,
      "metadata": {
        "id": "LslKAISHVZX4"
      },
      "outputs": [],
      "source": [
        "import tensorflow as tf\n",
        "from tensorflow import keras\n",
        "from tensorflow.keras import layers\n"
      ]
    },
    {
      "cell_type": "code",
      "execution_count": null,
      "metadata": {
        "id": "iEijeuhnVddC"
      },
      "outputs": [],
      "source": [
        "# Define the parameters\n",
        "input_shape = (224, 224, 3)  # Input image shape\n",
        "num_classes = 20  # Number of persons in the dataset\n",
        "batch_size = 32\n",
        "epochs = 10"
      ]
    },
    {
      "cell_type": "code",
      "execution_count": null,
      "metadata": {
        "id": "POJba5CtViZy",
        "colab": {
          "base_uri": "https://localhost:8080/"
        },
        "outputId": "3fd45666-ee0b-45f1-af92-81ffa9467021"
      },
      "outputs": [
        {
          "output_type": "stream",
          "name": "stdout",
          "text": [
            "Downloading data from https://storage.googleapis.com/tensorflow/keras-applications/vgg19/vgg19_weights_tf_dim_ordering_tf_kernels_notop.h5\n",
            "80134624/80134624 [==============================] - 0s 0us/step\n"
          ]
        }
      ],
      "source": [
        "# Load the pre-trained VGG19 model without the top layer\n",
        "base_model = keras.applications.VGG19(\n",
        "    weights='imagenet',\n",
        "    include_top=False,\n",
        "    input_shape=input_shape\n",
        ")"
      ]
    },
    {
      "cell_type": "code",
      "execution_count": null,
      "metadata": {
        "id": "fRA3A_SbV30v"
      },
      "outputs": [],
      "source": [
        "# Freeze the pre-trained layers\n",
        "base_model.trainable = False\n"
      ]
    },
    {
      "cell_type": "code",
      "execution_count": null,
      "metadata": {
        "id": "is9rvFRNV7TM"
      },
      "outputs": [],
      "source": [
        "# Add a new classifier on top of the pre-trained layers\n",
        "model = keras.Sequential([\n",
        "    base_model,\n",
        "    layers.Flatten(),\n",
        "    layers.Dense(256, activation='relu'),\n",
        "    layers.Dense(num_classes, activation='softmax')\n",
        "])"
      ]
    },
    {
      "cell_type": "code",
      "execution_count": null,
      "metadata": {
        "id": "ATiYfngJV-Iu"
      },
      "outputs": [],
      "source": [
        "# Compile the model\n",
        "model.compile(optimizer='adam',\n",
        "              loss=tf.keras.losses.SparseCategoricalCrossentropy(),\n",
        "              metrics=['accuracy'])\n"
      ]
    },
    {
      "cell_type": "code",
      "execution_count": null,
      "metadata": {
        "id": "JrSg_sH1WDOz"
      },
      "outputs": [],
      "source": [
        "# Create a data generator for loading the images\n",
        "data_generator = tf.keras.preprocessing.image.ImageDataGenerator(rescale=1./255)"
      ]
    },
    {
      "cell_type": "code",
      "execution_count": null,
      "metadata": {
        "colab": {
          "base_uri": "https://localhost:8080/"
        },
        "id": "yVk1LVqvWJ-D",
        "outputId": "30472f04-b792-4608-dc84-ed1c3bef69dd"
      },
      "outputs": [
        {
          "output_type": "stream",
          "name": "stdout",
          "text": [
            "Found 80 images belonging to 20 classes.\n"
          ]
        }
      ],
      "source": [
        "# Load the images from the dataset folders\n",
        "train_dataset = data_generator.flow_from_directory(\n",
        "    '/content/gdrive/MyDrive/Project Gait Analysis/Result/opfl_hsv',\n",
        "    target_size=input_shape[:2],\n",
        "    batch_size=batch_size,\n",
        "    class_mode='sparse'  # Assumes folder names represent the class labels\n",
        ")"
      ]
    },
    {
      "cell_type": "code",
      "execution_count": null,
      "metadata": {
        "colab": {
          "base_uri": "https://localhost:8080/"
        },
        "id": "dOglt97bWMfQ",
        "outputId": "de9bfc82-93a1-445b-8b2c-34da67064a17"
      },
      "outputs": [
        {
          "output_type": "stream",
          "name": "stdout",
          "text": [
            "Epoch 1/10\n",
            "3/3 [==============================] - 63s 18s/step - loss: 6.5257 - accuracy: 0.2000\n",
            "Epoch 2/10\n",
            "3/3 [==============================] - 62s 19s/step - loss: 5.1600 - accuracy: 0.2500\n",
            "Epoch 3/10\n",
            "3/3 [==============================] - 62s 19s/step - loss: 3.5964 - accuracy: 0.3250\n",
            "Epoch 4/10\n",
            "3/3 [==============================] - 67s 27s/step - loss: 2.5300 - accuracy: 0.3125\n",
            "Epoch 5/10\n",
            "3/3 [==============================] - 62s 19s/step - loss: 1.6151 - accuracy: 0.6125\n",
            "Epoch 6/10\n",
            "3/3 [==============================] - 64s 26s/step - loss: 1.5045 - accuracy: 0.7875\n",
            "Epoch 7/10\n",
            "3/3 [==============================] - 65s 18s/step - loss: 1.2725 - accuracy: 0.7875\n",
            "Epoch 8/10\n",
            "3/3 [==============================] - 62s 18s/step - loss: 0.9889 - accuracy: 0.8750\n",
            "Epoch 9/10\n",
            "3/3 [==============================] - 62s 19s/step - loss: 0.8028 - accuracy: 0.9375\n",
            "Epoch 10/10\n",
            "3/3 [==============================] - 65s 19s/step - loss: 0.6087 - accuracy: 1.0000\n"
          ]
        }
      ],
      "source": [
        "# Train the model\n",
        "history=model.fit(\n",
        "    train_dataset,\n",
        "    epochs=epochs\n",
        ")"
      ]
    },
    {
      "cell_type": "code",
      "execution_count": null,
      "metadata": {
        "colab": {
          "base_uri": "https://localhost:8080/"
        },
        "id": "jnDBWhQqJvX5",
        "outputId": "f3623f7b-c4c7-494f-b711-98588cfcc113"
      },
      "outputs": [
        {
          "output_type": "stream",
          "name": "stdout",
          "text": [
            "3/3 [==============================] - 64s 19s/step - loss: 0.5164 - accuracy: 0.9875\n",
            "Accuracy: 0.987500011920929\n"
          ]
        }
      ],
      "source": [
        "# Evaluate the model\n",
        "_, accuracy = model.evaluate(train_dataset)\n",
        "print('Accuracy:', accuracy)"
      ]
    },
    {
      "cell_type": "code",
      "execution_count": null,
      "metadata": {
        "colab": {
          "base_uri": "https://localhost:8080/",
          "height": 927
        },
        "id": "Dc28gOwSdRY6",
        "outputId": "12180514-6f9c-4291-ff9a-004dcaea3a82"
      },
      "outputs": [
        {
          "output_type": "display_data",
          "data": {
            "text/plain": [
              "<Figure size 640x480 with 1 Axes>"
            ],
            "image/png": "[encoded data removed]"
          },
          "metadata": {}
        },
        {
          "output_type": "display_data",
          "data": {
            "text/plain": [
              "<Figure size 640x480 with 1 Axes>"
            ],
            "image/png": "[encoded data removed]"
          },
          "metadata": {}
        }
      ],
      "source": [
        "import matplotlib.pyplot as plt\n",
        "\n",
        "# Plot the training loss\n",
        "plt.plot(history.history['loss'])\n",
        "plt.title('Training Loss')\n",
        "plt.xlabel('Epoch')\n",
        "plt.ylabel('Loss')\n",
        "plt.show()\n",
        "\n",
        "# Plot the training accuracy\n",
        "plt.plot(history.history['accuracy'])\n",
        "plt.title('Training Accuracy')\n",
        "plt.xlabel('Epoch')\n",
        "plt.ylabel('Accuracy')\n",
        "plt.show()\n"
      ]
    }
  ],
  "metadata": {
    "colab": {
      "provenance": []
    },
    "kernelspec": {
      "display_name": "Python 3",
      "name": "python3"
    },
    "language_info": {
      "name": "python"
    }
  },
  "nbformat": 4,
  "nbformat_minor": 0
}